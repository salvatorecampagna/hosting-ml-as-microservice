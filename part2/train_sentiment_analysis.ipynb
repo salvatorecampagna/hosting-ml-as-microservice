{
  "nbformat": 4,
  "nbformat_minor": 0,
  "metadata": {
    "anaconda-cloud": {},
    "kernelspec": {
      "display_name": "Python 3",
      "language": "python",
      "name": "python3"
    },
    "language_info": {
      "codemirror_mode": {
        "name": "ipython",
        "version": 2
      },
      "file_extension": ".py",
      "mimetype": "text/x-python",
      "name": "python",
      "nbconvert_exporter": "python",
      "pygments_lexer": "ipython2",
      "version": "2.7.3"
    },
    "pycharm": {
      "stem_cell": {
        "cell_type": "raw",
        "source": [],
        "metadata": {
          "collapsed": false
        }
      }
    },
    "colab": {
      "name": "train_sentiment_analysis.ipynb",
      "provenance": []
    }
  },
  "cells": [
    {
      "cell_type": "markdown",
      "metadata": {
        "collapsed": false,
        "pycharm": {
          "name": "#%% md\n"
        },
        "id": "ivAFtuhZkrw8",
        "colab_type": "text"
      },
      "source": [
        "## Part 2: Training your own ML Model\n",
        "\n",
        "<a href=\"https://colab.research.google.com/github/peckjon/hosting-ml-as-microservice/blob/master/part2/train_sentiment_analysis.ipynb\" target=\"_parent\"><img src=\"https://colab.research.google.com/assets/colab-badge.svg\" alt=\"Open In Colab\"/></a>"
      ]
    },
    {
      "cell_type": "markdown",
      "metadata": {
        "id": "pCMs0YLXkrxA",
        "colab_type": "text"
      },
      "source": [
        "### Download corpuses\n",
        "\n",
        "We'll continue using the `movie_reviews` corpus to train our model. The `stopwords` corpus contains a [set of standard stopwords](https://gist.github.com/sebleier/554280) we'll want to remove from the input, and `punkt` is used for toneization in the [.words()](https://www.nltk.org/api/nltk.corpus.html#corpus-reader-functions) method of the corpus reader."
      ]
    },
    {
      "cell_type": "code",
      "metadata": {
        "pycharm": {
          "name": "#%%\n"
        },
        "id": "hCIp9kFukrxD",
        "colab_type": "code",
        "colab": {
          "base_uri": "https://localhost:8080/",
          "height": 136
        },
        "outputId": "7a013a82-6751-4db0-8d61-205680644c6b"
      },
      "source": [
        "from nltk import download\n",
        "\n",
        "download('movie_reviews')\n",
        "download('punkt')\n",
        "download('stopwords')"
      ],
      "execution_count": 44,
      "outputs": [
        {
          "output_type": "stream",
          "text": [
            "[nltk_data] Downloading package movie_reviews to /root/nltk_data...\n",
            "[nltk_data]   Package movie_reviews is already up-to-date!\n",
            "[nltk_data] Downloading package punkt to /root/nltk_data...\n",
            "[nltk_data]   Package punkt is already up-to-date!\n",
            "[nltk_data] Downloading package stopwords to /root/nltk_data...\n",
            "[nltk_data]   Package stopwords is already up-to-date!\n"
          ],
          "name": "stdout"
        },
        {
          "output_type": "execute_result",
          "data": {
            "text/plain": [
              "True"
            ]
          },
          "metadata": {
            "tags": []
          },
          "execution_count": 44
        }
      ]
    },
    {
      "cell_type": "markdown",
      "metadata": {
        "id": "8eff3DtZkrxK",
        "colab_type": "text"
      },
      "source": [
        "### Define feature extractor and bag-of-words converter\n",
        "\n",
        "Given a list of (already tokenized) words, we need a function to extract just the ones we care about: those not found in the list of English stopwords or standard punctuation.\n",
        "\n",
        "We also need a way to easily turn a list of words into a [bag-of-words](https://en.wikipedia.org/wiki/Bag-of-words_model), pairing each word with the count of its occurrences."
      ]
    },
    {
      "cell_type": "code",
      "metadata": {
        "id": "QtKLYxsrkrxM",
        "colab_type": "code",
        "colab": {}
      },
      "source": [
        "from nltk.corpus import stopwords\n",
        "from string import punctuation\n",
        "\n",
        "stopwords_eng = stopwords.words('english')\n",
        "\n",
        "def extract_features(words):\n",
        "    return [w for w in words if w not in stopwords_eng and w not in punctuation]\n",
        "\n",
        "def bag_of_words(words):\n",
        "    bag = {}\n",
        "    for w in words:\n",
        "        bag[w] = bag.get(w,0)+1\n",
        "    return bag"
      ],
      "execution_count": 0,
      "outputs": []
    },
    {
      "cell_type": "markdown",
      "metadata": {
        "id": "x4LNnlNtkrxS",
        "colab_type": "text"
      },
      "source": [
        "### Ingest, clean, and convert the positive and negative reviews\n",
        "\n",
        "For both the positive (\"pos\") and negative (\"neg\") sets of reviews, extract the features and convert to bag of words. From these, we construct a list of tuples known as a \"featureset\": the first part of each tuple is the bag of words for that review, and the second is its label (\"pos\"/\"neg\").\n",
        "\n",
        "Note that `movie_reviews.words(fileid)` provides a tokenized list of words. If we wanted the un-tokenized text, we would use `movie_reviews.raw(fileid)` instead, then tokenize it using our preferred tokenizeer (e.g. [nltk.tokenize.word_tokenize](https://www.nltk.org/api/nltk.tokenize.html#nltk.tokenize.punkt.PunktLanguageVars.word_tokenize))."
      ]
    },
    {
      "cell_type": "code",
      "metadata": {
        "id": "ol7IdKcBkrxT",
        "colab_type": "code",
        "colab": {}
      },
      "source": [
        "from nltk.corpus import movie_reviews\n",
        "\n",
        "reviews_pos = []\n",
        "reviews_neg = []\n",
        "for fileid in movie_reviews.fileids('pos'):\n",
        "    words = extract_features(movie_reviews.words(fileid))\n",
        "    reviews_pos.append((bag_of_words(words), 'pos'))\n",
        "for fileid in movie_reviews.fileids('neg'):\n",
        "    words = extract_features(movie_reviews.words(fileid))\n",
        "    reviews_neg.append((bag_of_words(words), 'neg'))"
      ],
      "execution_count": 0,
      "outputs": []
    },
    {
      "cell_type": "markdown",
      "metadata": {
        "id": "HPeiq9jnkrxZ",
        "colab_type": "text"
      },
      "source": [
        "### Split reviews into training and test sets\n",
        "We need to break up each group of reviews into a training set (about 80%) and a test set (the remaining 20%). In case there's some meaningful order to the reviews (e.g. the first 800 are from one group of reviewers, the next 200 are from another), we shuffle the sets first to ensure we aren't introducing additional bias. Note that this means our accuracy will not be exactly the same on every run; if you wish to see consistent results on each run, you can stabilize the shuffle by calling [random.seed(n)](https://www.geeksforgeeks.org/random-seed-in-python/) first."
      ]
    },
    {
      "cell_type": "code",
      "metadata": {
        "id": "PhThtVvbkrxb",
        "colab_type": "code",
        "colab": {}
      },
      "source": [
        "from random import shuffle\n",
        "\n",
        "split_pct = .80\n",
        "\n",
        "def split_set(review_set):\n",
        "    split = int(len(review_set)*split_pct)\n",
        "    return (review_set[:split], review_set[split:])\n",
        "\n",
        "shuffle(reviews_pos)\n",
        "shuffle(reviews_neg)\n",
        "\n",
        "pos_train, pos_test = split_set(reviews_pos)\n",
        "neg_train, neg_test = split_set(reviews_neg)\n",
        "\n",
        "train_set = pos_train+neg_train\n",
        "test_set = pos_test+neg_test"
      ],
      "execution_count": 0,
      "outputs": []
    },
    {
      "cell_type": "markdown",
      "metadata": {
        "id": "zXS7V5KTkrxg",
        "colab_type": "text"
      },
      "source": [
        "### Train the model\n",
        "\n",
        "Now that our data is ready, the training step itself is quite simple if we use the [NaiveBayesClassifier](https://www.nltk.org/api/nltk.classify.html#module-nltk.classify.naivebayes) provided by NLTK.\n",
        "\n",
        "If you are used to methods such as `model.fit(x,y)` which take two parameters -- the data and the labels -- it may be confusing that `NaiveBayesClassifier.train` takes just one argument. This is because the labels are already embedded in `train_set`: each element in the set is a Bag of Words paired with a 'pos' or 'neg'; value."
      ]
    },
    {
      "cell_type": "code",
      "metadata": {
        "id": "H72gYq_5krxi",
        "colab_type": "code",
        "colab": {}
      },
      "source": [
        "from nltk.classify import NaiveBayesClassifier\n",
        "\n",
        "model = NaiveBayesClassifier.train(train_set)"
      ],
      "execution_count": 0,
      "outputs": []
    },
    {
      "cell_type": "markdown",
      "metadata": {
        "id": "QXRphdCskrxr",
        "colab_type": "text"
      },
      "source": [
        "### Check model accuracy\n",
        "\n",
        "NLTK's built-in [accuracy](https://www.nltk.org/api/nltk.classify.html#module-nltk.classify.util) utility can run our test_set through the model and compare the labels returned by the model to the labels in the test set, producing an overall % accuracy. Not too impressive, right? We need to improve."
      ]
    },
    {
      "cell_type": "code",
      "metadata": {
        "id": "SbgpG39okrxs",
        "colab_type": "code",
        "colab": {
          "base_uri": "https://localhost:8080/",
          "height": 34
        },
        "outputId": "5d8b3985-3456-4f09-d645-973005c9c3f7"
      },
      "source": [
        "from nltk.classify.util import accuracy\n",
        "\n",
        "print(100 * accuracy(model, test_set))"
      ],
      "execution_count": 49,
      "outputs": [
        {
          "output_type": "stream",
          "text": [
            "65.5\n"
          ],
          "name": "stdout"
        }
      ]
    },
    {
      "cell_type": "markdown",
      "metadata": {
        "id": "GPQb1EyHkrxx",
        "colab_type": "text"
      },
      "source": [
        "### Save the model\n",
        "Our trained model will be cleared from memory when this notebook is closed. So that we can use it again later, save the model as a file using the [pickle](https://docs.python.org/3/library/pickle.html) serializer."
      ]
    },
    {
      "cell_type": "code",
      "metadata": {
        "pycharm": {
          "name": "#%%\n"
        },
        "id": "8LK0IBMSkrxy",
        "colab_type": "code",
        "colab": {}
      },
      "source": [
        "import pickle\n",
        "\n",
        "model_file = open('sa_classifier.pickle','wb')\n",
        "pickle.dump(model, model_file)\n",
        "model_file.close()"
      ],
      "execution_count": 0,
      "outputs": []
    },
    {
      "cell_type": "markdown",
      "metadata": {
        "id": "Zeoy6HKOkrx3",
        "colab_type": "text"
      },
      "source": [
        "### Save the model (Colab version)\n",
        "\n",
        "Google Colab doesn't provide direct access to files saved during a notebook session, so we need to save it in [Google Drive](https://drive.google.com) instead. The first time you run this, it will ask for permission to access your Google Drive. Follow the instructions, then wait a few minutes and look for a new folder called \"Colab Output\" in [Drive](https://drive.google.com). Note that Colab does not alway sync to Drive immediately, so check the file update times and re-run this cell if it doesn't look like you have the most revent version of your file."
      ]
    },
    {
      "cell_type": "code",
      "metadata": {
        "id": "HYh6dA0okrx5",
        "colab_type": "code",
        "colab": {
          "base_uri": "https://localhost:8080/",
          "height": 85
        },
        "outputId": "d24a0144-0266-43cd-e575-f5d92aaafc73"
      },
      "source": [
        "import sys\n",
        "if 'google.colab' in sys.modules:\n",
        "    from google.colab import drive\n",
        "    drive.mount('/content/gdrive')\n",
        "    !mkdir -p '/content/gdrive/My Drive/Colab Output'\n",
        "    model_file = open('/content/gdrive/My Drive/Colab Output/sa_classifier.pickle','wb')\n",
        "    pickle.dump(model, model_file)\n",
        "    model_file.flush()\n",
        "    print('Model saved in /content/gdrive/My Drive/Colab Output')\n",
        "    !ls '/content/gdrive/My Drive/Colab Output'\n",
        "    drive.flush_and_unmount()\n",
        "    print('Re-run this cell if you cannot find it in https://drive.google.com')"
      ],
      "execution_count": 51,
      "outputs": [
        {
          "output_type": "stream",
          "text": [
            "Mounted at /content/gdrive\n",
            "Model saved in /content/gdrive/My Drive/Colab Output\n",
            "sa_classifier.pickle\n",
            "Re-run this cell if you cannot find it in https://drive.google.com\n"
          ],
          "name": "stdout"
        }
      ]
    },
    {
      "cell_type": "code",
      "metadata": {
        "id": "tpi8vqxgl6qT",
        "colab_type": "code",
        "colab": {
          "base_uri": "https://localhost:8080/",
          "height": 34
        },
        "outputId": "a8d4380d-ae33-4854-f897-792e82bded90"
      },
      "source": [
        "most_informative_features = model.most_informative_features(200)\n",
        "print(len(most_informative_features))"
      ],
      "execution_count": 52,
      "outputs": [
        {
          "output_type": "stream",
          "text": [
            "200\n"
          ],
          "name": "stdout"
        }
      ]
    },
    {
      "cell_type": "code",
      "metadata": {
        "id": "YtyZijffnxu3",
        "colab_type": "code",
        "colab": {}
      },
      "source": [
        "reviews_pos = []\n",
        "reviews_neg = []\n",
        "def most_informative_words(words):\n",
        "    return [w for w in words if w in most_informative_features]\n",
        "\n",
        "for fileid in movie_reviews.fileids('pos'):\n",
        "    words = most_informative_words(extract_features(movie_reviews.words(fileid)))\n",
        "    reviews_pos.append((bag_of_words(words), 'pos'))\n",
        "for fileid in movie_reviews.fileids('neg'):\n",
        "    words = most_informative_words(extract_features(movie_reviews.words(fileid)))\n",
        "    reviews_neg.append((bag_of_words(words), 'neg'))"
      ],
      "execution_count": 0,
      "outputs": []
    },
    {
      "cell_type": "code",
      "metadata": {
        "id": "GDvxWBLpozgT",
        "colab_type": "code",
        "colab": {}
      },
      "source": [
        "from random import shuffle\n",
        "\n",
        "split_pct = .80\n",
        "\n",
        "def split_set(review_set):\n",
        "    split = int(len(review_set)*split_pct)\n",
        "    return (review_set[:split], review_set[split:])\n",
        "\n",
        "shuffle(reviews_pos)\n",
        "shuffle(reviews_neg)\n",
        "\n",
        "pos_train, pos_test = split_set(reviews_pos)\n",
        "neg_train, neg_test = split_set(reviews_neg)\n",
        "\n",
        "train_set = pos_train+neg_train\n",
        "test_set = pos_test+neg_test"
      ],
      "execution_count": 0,
      "outputs": []
    },
    {
      "cell_type": "code",
      "metadata": {
        "id": "Pct796MypH18",
        "colab_type": "code",
        "colab": {}
      },
      "source": [
        "from nltk.classify import NaiveBayesClassifier\n",
        "\n",
        "new_model = NaiveBayesClassifier.train(train_set)"
      ],
      "execution_count": 0,
      "outputs": []
    },
    {
      "cell_type": "code",
      "metadata": {
        "id": "VMEZFihEpMdE",
        "colab_type": "code",
        "colab": {
          "base_uri": "https://localhost:8080/",
          "height": 34
        },
        "outputId": "e4b9410c-6547-4144-df59-9378c4b65363"
      },
      "source": [
        "from nltk.classify.util import accuracy\n",
        "\n",
        "print(100 * accuracy(new_model, test_set))"
      ],
      "execution_count": 56,
      "outputs": [
        {
          "output_type": "stream",
          "text": [
            "50.0\n"
          ],
          "name": "stdout"
        }
      ]
    },
    {
      "cell_type": "code",
      "metadata": {
        "id": "PVBv1VyYpQdq",
        "colab_type": "code",
        "colab": {}
      },
      "source": [
        ""
      ],
      "execution_count": 0,
      "outputs": []
    }
  ]
}